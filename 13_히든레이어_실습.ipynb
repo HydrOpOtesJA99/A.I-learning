{
  "nbformat": 4,
  "nbformat_minor": 0,
  "metadata": {
    "colab": {
      "name": "13_히든레이어_실습",
      "provenance": [],
      "collapsed_sections": [],
      "authorship_tag": "ABX9TyNcOgcZ/YK1/RCxIlzQB30E",
      "include_colab_link": true
    },
    "kernelspec": {
      "name": "python3",
      "display_name": "Python 3"
    },
    "language_info": {
      "name": "python"
    }
  },
  "cells": [
    {
      "cell_type": "markdown",
      "metadata": {
        "id": "view-in-github",
        "colab_type": "text"
      },
      "source": [
        "<a href=\"https://colab.research.google.com/github/HydrOpOtesJA99/A.I-learning/blob/main/13_%ED%9E%88%EB%93%A0%EB%A0%88%EC%9D%B4%EC%96%B4_%EC%8B%A4%EC%8A%B5.ipynb\" target=\"_parent\"><img src=\"https://colab.research.google.com/assets/colab-badge.svg\" alt=\"Open In Colab\"/></a>"
      ]
    },
    {
      "cell_type": "markdown",
      "source": [
        "# 13_히든레이어_실습\n",
        "\n",
        "*   보스턴 집값 예측: https://raw.githubusercontent.com/blackdew/tensorflow1/master/csv/boston.csv\n",
        "*   아이리스 품종 분류: https://raw.githubusercontent.com/blackdew/tensorflow1/master/csv/iris.csv\n",
        "\n"
      ],
      "metadata": {
        "id": "-RMtJBMak-K_"
      }
    },
    {
      "cell_type": "code",
      "execution_count": 4,
      "metadata": {
        "id": "vAfRvJxak6aq"
      },
      "outputs": [],
      "source": [
        "# 라이브러리 사용\n",
        "\n",
        "import tensorflow as tf\n",
        "import pandas as pd"
      ]
    },
    {
      "cell_type": "markdown",
      "source": [
        "## 1. 보스턴 집값 예측"
      ],
      "metadata": {
        "id": "zhYrDhIvlgaB"
      }
    },
    {
      "cell_type": "markdown",
      "source": [
        "### 1) 과거의 데이터 준비"
      ],
      "metadata": {
        "id": "VCvpcuKNljVr"
      }
    },
    {
      "cell_type": "code",
      "source": [
        "# 과거의 데이터 준비\n",
        "파일경로 = 'https://raw.githubusercontent.com/blackdew/tensorflow1/master/csv/boston.csv'\n",
        "보스턴 = pd.read_csv(파일경로)\n",
        "\n",
        "# 보스턴.head() # 파일경로 제대로 연결되었는지 확인\n",
        "print(보스턴.columns)\n",
        "\n",
        "# 종속변수, 독립변수 준비\n",
        "독립 = 보스턴[['crim', 'zn', 'indus', 'chas', 'nox', 'rm', \n",
        "              'age', 'dis', 'rad', 'tax', 'ptratio', 'b', 'lstat']]\n",
        "종속 = 보스턴[['medv']]\n",
        "\n",
        "print('독립변수(행,열):',독립.shape, ', 종속변수(행,열):',종속.shape)"
      ],
      "metadata": {
        "colab": {
          "base_uri": "https://localhost:8080/"
        },
        "id": "14cSEqsUloUe",
        "outputId": "822fa2b0-02d1-4172-a896-6cd0623ad552"
      },
      "execution_count": 34,
      "outputs": [
        {
          "output_type": "stream",
          "name": "stdout",
          "text": [
            "Index(['crim', 'zn', 'indus', 'chas', 'nox', 'rm', 'age', 'dis', 'rad', 'tax',\n",
            "       'ptratio', 'b', 'lstat', 'medv'],\n",
            "      dtype='object')\n",
            "독립변수(행,열): (506, 13) , 종속변수(행,열): (506, 1)\n"
          ]
        }
      ]
    },
    {
      "cell_type": "markdown",
      "source": [
        "### 2) 모델의 구조를 만든다"
      ],
      "metadata": {
        "id": "l0dfPvWxln-f"
      }
    },
    {
      "cell_type": "code",
      "source": [
        "# 모델의 구조를 만든다\n",
        "X = tf.keras.layers.Input(shape=[13])\n",
        "H = tf.keras.layers.Dense(10, activation ='swish')(X)\n",
        "Y = tf.keras.layers.Dense(1)(H) # 'H'로 바꾸는것 잊지말기\n",
        "model = tf.keras.models.Model(X,Y)\n",
        "model.compile(loss='mse')"
      ],
      "metadata": {
        "id": "YNfXZB83pLZ1"
      },
      "execution_count": 36,
      "outputs": []
    },
    {
      "cell_type": "markdown",
      "source": [
        "### 2-1) 만든 모델의 확인"
      ],
      "metadata": {
        "id": "vHsPpxUd2ISo"
      }
    },
    {
      "cell_type": "code",
      "source": [
        "# 만든 모델의 확인\n",
        "model.summary()"
      ],
      "metadata": {
        "colab": {
          "base_uri": "https://localhost:8080/"
        },
        "id": "wjfNQ4curlUd",
        "outputId": "0fb6fd9e-66be-45e3-f4c4-748d0a3c8796"
      },
      "execution_count": 43,
      "outputs": [
        {
          "output_type": "stream",
          "name": "stdout",
          "text": [
            "Model: \"model\"\n",
            "_________________________________________________________________\n",
            " Layer (type)                Output Shape              Param #   \n",
            "=================================================================\n",
            " input_2 (InputLayer)        [(None, 13)]              0         \n",
            "                                                                 \n",
            " dense (Dense)               (None, 10)                140       \n",
            "                                                                 \n",
            " dense_1 (Dense)             (None, 1)                 11        \n",
            "                                                                 \n",
            "=================================================================\n",
            "Total params: 151\n",
            "Trainable params: 151\n",
            "Non-trainable params: 0\n",
            "_________________________________________________________________\n"
          ]
        }
      ]
    },
    {
      "cell_type": "markdown",
      "source": [
        "\n",
        "\n",
        "*   param(parameter; 가중치) \n",
        "*   이전 Output Shape 값에 +1(Bias)을 하고 다음 Output Shape 곱하면 Param 값이 나온다\n",
        "*   ex)(13(output shape)+1(bias)) * 10(output shape) = 140(Param)\n",
        "\n",
        "\n"
      ],
      "metadata": {
        "id": "uNDeaiVDr5em"
      }
    },
    {
      "cell_type": "markdown",
      "source": [
        "### 3) 모델을 학습시킨다."
      ],
      "metadata": {
        "id": "aZxq94Lnqj64"
      }
    },
    {
      "cell_type": "code",
      "source": [
        "# 모델을 학습시킨다\n",
        "model.fit(독립, 종속, epochs=1000, verbose=0)\n",
        "model.fit(독립, 종속, epochs=10)"
      ],
      "metadata": {
        "colab": {
          "base_uri": "https://localhost:8080/"
        },
        "id": "PAtEVUvzqzlH",
        "outputId": "371e657d-54f2-4665-ed2b-b84daaffe084"
      },
      "execution_count": 47,
      "outputs": [
        {
          "output_type": "stream",
          "name": "stdout",
          "text": [
            "Epoch 1/10\n",
            "16/16 [==============================] - 0s 2ms/step - loss: 11.9324\n",
            "Epoch 2/10\n",
            "16/16 [==============================] - 0s 2ms/step - loss: 10.9011\n",
            "Epoch 3/10\n",
            "16/16 [==============================] - 0s 2ms/step - loss: 11.1768\n",
            "Epoch 4/10\n",
            "16/16 [==============================] - 0s 2ms/step - loss: 10.8364\n",
            "Epoch 5/10\n",
            "16/16 [==============================] - 0s 2ms/step - loss: 11.4163\n",
            "Epoch 6/10\n",
            "16/16 [==============================] - 0s 2ms/step - loss: 10.2545\n",
            "Epoch 7/10\n",
            "16/16 [==============================] - 0s 2ms/step - loss: 10.9989\n",
            "Epoch 8/10\n",
            "16/16 [==============================] - 0s 2ms/step - loss: 11.2385\n",
            "Epoch 9/10\n",
            "16/16 [==============================] - 0s 2ms/step - loss: 10.1764\n",
            "Epoch 10/10\n",
            "16/16 [==============================] - 0s 2ms/step - loss: 11.4016\n"
          ]
        },
        {
          "output_type": "execute_result",
          "data": {
            "text/plain": [
              "<keras.callbacks.History at 0x7f9fd1422710>"
            ]
          },
          "metadata": {},
          "execution_count": 47
        }
      ]
    },
    {
      "cell_type": "markdown",
      "source": [
        "### 4) 모델을 이용한다"
      ],
      "metadata": {
        "id": "m1bRIl0xuNnw"
      }
    },
    {
      "cell_type": "code",
      "source": [
        "# 모델을 이용한다\n",
        "\n",
        "print(model.predict(독립[:5]))\n",
        "print(종속[:5])"
      ],
      "metadata": {
        "colab": {
          "base_uri": "https://localhost:8080/"
        },
        "id": "wkrAP6Q8rBrn",
        "outputId": "946837ef-a3b6-4044-e946-b5f36236af5c"
      },
      "execution_count": 48,
      "outputs": [
        {
          "output_type": "stream",
          "name": "stdout",
          "text": [
            "[[30.264984]\n",
            " [22.23278 ]\n",
            " [33.96098 ]\n",
            " [33.34128 ]\n",
            " [29.68676 ]]\n",
            "   medv\n",
            "0  24.0\n",
            "1  21.6\n",
            "2  34.7\n",
            "3  33.4\n",
            "4  36.2\n"
          ]
        }
      ]
    },
    {
      "cell_type": "markdown",
      "source": [
        "## 2. 아이리스 품종 분류"
      ],
      "metadata": {
        "id": "3BweuEYKw50z"
      }
    },
    {
      "cell_type": "markdown",
      "source": [
        "### 1) 과거의 데이터 준비"
      ],
      "metadata": {
        "id": "Hn6cwGwvxBoK"
      }
    },
    {
      "cell_type": "code",
      "source": [
        "# 과거의 데이터 준비\n",
        "\n",
        "파일경로 = 'https://raw.githubusercontent.com/blackdew/tensorflow1/master/csv/iris.csv'\n",
        "아이리스 = pd.read_csv(파일경로)\n",
        "아이리스.head()"
      ],
      "metadata": {
        "colab": {
          "base_uri": "https://localhost:8080/",
          "height": 206
        },
        "id": "8UrqqNawxDxg",
        "outputId": "15ee185d-3817-468e-cd4b-46f056f8fa44"
      },
      "execution_count": 55,
      "outputs": [
        {
          "output_type": "execute_result",
          "data": {
            "text/plain": [
              "   꽃잎길이  꽃잎폭  꽃받침길이  꽃받침폭      품종\n",
              "0   5.1  3.5    1.4   0.2  setosa\n",
              "1   4.9  3.0    1.4   0.2  setosa\n",
              "2   4.7  3.2    1.3   0.2  setosa\n",
              "3   4.6  3.1    1.5   0.2  setosa\n",
              "4   5.0  3.6    1.4   0.2  setosa"
            ],
            "text/html": [
              "\n",
              "  <div id=\"df-edca77eb-4983-46fb-857a-50dd7d8934a7\">\n",
              "    <div class=\"colab-df-container\">\n",
              "      <div>\n",
              "<style scoped>\n",
              "    .dataframe tbody tr th:only-of-type {\n",
              "        vertical-align: middle;\n",
              "    }\n",
              "\n",
              "    .dataframe tbody tr th {\n",
              "        vertical-align: top;\n",
              "    }\n",
              "\n",
              "    .dataframe thead th {\n",
              "        text-align: right;\n",
              "    }\n",
              "</style>\n",
              "<table border=\"1\" class=\"dataframe\">\n",
              "  <thead>\n",
              "    <tr style=\"text-align: right;\">\n",
              "      <th></th>\n",
              "      <th>꽃잎길이</th>\n",
              "      <th>꽃잎폭</th>\n",
              "      <th>꽃받침길이</th>\n",
              "      <th>꽃받침폭</th>\n",
              "      <th>품종</th>\n",
              "    </tr>\n",
              "  </thead>\n",
              "  <tbody>\n",
              "    <tr>\n",
              "      <th>0</th>\n",
              "      <td>5.1</td>\n",
              "      <td>3.5</td>\n",
              "      <td>1.4</td>\n",
              "      <td>0.2</td>\n",
              "      <td>setosa</td>\n",
              "    </tr>\n",
              "    <tr>\n",
              "      <th>1</th>\n",
              "      <td>4.9</td>\n",
              "      <td>3.0</td>\n",
              "      <td>1.4</td>\n",
              "      <td>0.2</td>\n",
              "      <td>setosa</td>\n",
              "    </tr>\n",
              "    <tr>\n",
              "      <th>2</th>\n",
              "      <td>4.7</td>\n",
              "      <td>3.2</td>\n",
              "      <td>1.3</td>\n",
              "      <td>0.2</td>\n",
              "      <td>setosa</td>\n",
              "    </tr>\n",
              "    <tr>\n",
              "      <th>3</th>\n",
              "      <td>4.6</td>\n",
              "      <td>3.1</td>\n",
              "      <td>1.5</td>\n",
              "      <td>0.2</td>\n",
              "      <td>setosa</td>\n",
              "    </tr>\n",
              "    <tr>\n",
              "      <th>4</th>\n",
              "      <td>5.0</td>\n",
              "      <td>3.6</td>\n",
              "      <td>1.4</td>\n",
              "      <td>0.2</td>\n",
              "      <td>setosa</td>\n",
              "    </tr>\n",
              "  </tbody>\n",
              "</table>\n",
              "</div>\n",
              "      <button class=\"colab-df-convert\" onclick=\"convertToInteractive('df-edca77eb-4983-46fb-857a-50dd7d8934a7')\"\n",
              "              title=\"Convert this dataframe to an interactive table.\"\n",
              "              style=\"display:none;\">\n",
              "        \n",
              "  <svg xmlns=\"http://www.w3.org/2000/svg\" height=\"24px\"viewBox=\"0 0 24 24\"\n",
              "       width=\"24px\">\n",
              "    <path d=\"M0 0h24v24H0V0z\" fill=\"none\"/>\n",
              "    <path d=\"M18.56 5.44l.94 2.06.94-2.06 2.06-.94-2.06-.94-.94-2.06-.94 2.06-2.06.94zm-11 1L8.5 8.5l.94-2.06 2.06-.94-2.06-.94L8.5 2.5l-.94 2.06-2.06.94zm10 10l.94 2.06.94-2.06 2.06-.94-2.06-.94-.94-2.06-.94 2.06-2.06.94z\"/><path d=\"M17.41 7.96l-1.37-1.37c-.4-.4-.92-.59-1.43-.59-.52 0-1.04.2-1.43.59L10.3 9.45l-7.72 7.72c-.78.78-.78 2.05 0 2.83L4 21.41c.39.39.9.59 1.41.59.51 0 1.02-.2 1.41-.59l7.78-7.78 2.81-2.81c.8-.78.8-2.07 0-2.86zM5.41 20L4 18.59l7.72-7.72 1.47 1.35L5.41 20z\"/>\n",
              "  </svg>\n",
              "      </button>\n",
              "      \n",
              "  <style>\n",
              "    .colab-df-container {\n",
              "      display:flex;\n",
              "      flex-wrap:wrap;\n",
              "      gap: 12px;\n",
              "    }\n",
              "\n",
              "    .colab-df-convert {\n",
              "      background-color: #E8F0FE;\n",
              "      border: none;\n",
              "      border-radius: 50%;\n",
              "      cursor: pointer;\n",
              "      display: none;\n",
              "      fill: #1967D2;\n",
              "      height: 32px;\n",
              "      padding: 0 0 0 0;\n",
              "      width: 32px;\n",
              "    }\n",
              "\n",
              "    .colab-df-convert:hover {\n",
              "      background-color: #E2EBFA;\n",
              "      box-shadow: 0px 1px 2px rgba(60, 64, 67, 0.3), 0px 1px 3px 1px rgba(60, 64, 67, 0.15);\n",
              "      fill: #174EA6;\n",
              "    }\n",
              "\n",
              "    [theme=dark] .colab-df-convert {\n",
              "      background-color: #3B4455;\n",
              "      fill: #D2E3FC;\n",
              "    }\n",
              "\n",
              "    [theme=dark] .colab-df-convert:hover {\n",
              "      background-color: #434B5C;\n",
              "      box-shadow: 0px 1px 3px 1px rgba(0, 0, 0, 0.15);\n",
              "      filter: drop-shadow(0px 1px 2px rgba(0, 0, 0, 0.3));\n",
              "      fill: #FFFFFF;\n",
              "    }\n",
              "  </style>\n",
              "\n",
              "      <script>\n",
              "        const buttonEl =\n",
              "          document.querySelector('#df-edca77eb-4983-46fb-857a-50dd7d8934a7 button.colab-df-convert');\n",
              "        buttonEl.style.display =\n",
              "          google.colab.kernel.accessAllowed ? 'block' : 'none';\n",
              "\n",
              "        async function convertToInteractive(key) {\n",
              "          const element = document.querySelector('#df-edca77eb-4983-46fb-857a-50dd7d8934a7');\n",
              "          const dataTable =\n",
              "            await google.colab.kernel.invokeFunction('convertToInteractive',\n",
              "                                                     [key], {});\n",
              "          if (!dataTable) return;\n",
              "\n",
              "          const docLinkHtml = 'Like what you see? Visit the ' +\n",
              "            '<a target=\"_blank\" href=https://colab.research.google.com/notebooks/data_table.ipynb>data table notebook</a>'\n",
              "            + ' to learn more about interactive tables.';\n",
              "          element.innerHTML = '';\n",
              "          dataTable['output_type'] = 'display_data';\n",
              "          await google.colab.output.renderOutput(dataTable, element);\n",
              "          const docLink = document.createElement('div');\n",
              "          docLink.innerHTML = docLinkHtml;\n",
              "          element.appendChild(docLink);\n",
              "        }\n",
              "      </script>\n",
              "    </div>\n",
              "  </div>\n",
              "  "
            ]
          },
          "metadata": {},
          "execution_count": 55
        }
      ]
    },
    {
      "cell_type": "markdown",
      "source": [
        "### 1-1) 원핫인코딩(범주형 데이터)"
      ],
      "metadata": {
        "id": "IM_7I4XuyH-n"
      }
    },
    {
      "cell_type": "code",
      "source": [
        "# 원핫인코딩\n",
        "\n",
        "아이리스 = pd.get_dummies(아이리스)\n",
        "아이리스.head\n",
        "#print(아이리스.columns)"
      ],
      "metadata": {
        "colab": {
          "base_uri": "https://localhost:8080/"
        },
        "id": "snQ6PinKyR2L",
        "outputId": "20c61d97-8ee9-4070-a0ce-b7c8b1890f92"
      },
      "execution_count": 57,
      "outputs": [
        {
          "output_type": "execute_result",
          "data": {
            "text/plain": [
              "<bound method NDFrame.head of      꽃잎길이  꽃잎폭  꽃받침길이  꽃받침폭  품종_setosa  품종_versicolor  품종_virginica\n",
              "0     5.1  3.5    1.4   0.2          1              0             0\n",
              "1     4.9  3.0    1.4   0.2          1              0             0\n",
              "2     4.7  3.2    1.3   0.2          1              0             0\n",
              "3     4.6  3.1    1.5   0.2          1              0             0\n",
              "4     5.0  3.6    1.4   0.2          1              0             0\n",
              "..    ...  ...    ...   ...        ...            ...           ...\n",
              "145   6.7  3.0    5.2   2.3          0              0             1\n",
              "146   6.3  2.5    5.0   1.9          0              0             1\n",
              "147   6.5  3.0    5.2   2.0          0              0             1\n",
              "148   6.2  3.4    5.4   2.3          0              0             1\n",
              "149   5.9  3.0    5.1   1.8          0              0             1\n",
              "\n",
              "[150 rows x 7 columns]>"
            ]
          },
          "metadata": {},
          "execution_count": 57
        }
      ]
    },
    {
      "cell_type": "code",
      "source": [
        "# 종속변수, 독립변수 설정\n",
        "\n",
        "독립 = 아이리스[['꽃잎길이', '꽃잎폭', '꽃받침길이', '꽃받침폭']]\n",
        "종속 = 아이리스[['품종_setosa', '품종_versicolor', '품종_virginica']]\n",
        "print(독립.shape, 종속.shape)"
      ],
      "metadata": {
        "colab": {
          "base_uri": "https://localhost:8080/"
        },
        "id": "a-eMwQR7yxqv",
        "outputId": "62727dec-7915-4cdc-e81f-9b661a1609c9"
      },
      "execution_count": 59,
      "outputs": [
        {
          "output_type": "stream",
          "name": "stdout",
          "text": [
            "(150, 4) (150, 3)\n"
          ]
        }
      ]
    },
    {
      "cell_type": "markdown",
      "source": [
        "### 2) 모델의 구조를 만든다"
      ],
      "metadata": {
        "id": "aqDsE2jMxBoK"
      }
    },
    {
      "cell_type": "code",
      "source": [
        "# 모델의 구조를 만든다\n",
        "\n",
        "X = tf.keras.layers.Input(shape=[4])\n",
        "H = tf.keras.layers.Dense(8, activation = 'swish')(X)\n",
        "H = tf.keras.layers.Dense(8, activation = 'swish')(X)\n",
        "H = tf.keras.layers.Dense(8, activation = 'swish')(X)\n",
        "Y = tf.keras.layers.Dense(3, activation = 'softmax')(H)\n",
        "model = tf.keras.models.Model(X,Y)\n",
        "model.compile(loss='categorical_crossentropy', metrics='accuracy')"
      ],
      "metadata": {
        "id": "9MBA9NvQ0DdC"
      },
      "execution_count": 62,
      "outputs": []
    },
    {
      "cell_type": "markdown",
      "source": [
        "### 2-1) 만든 모델의 확인"
      ],
      "metadata": {
        "id": "Zr6HnL8Y2CA2"
      }
    },
    {
      "cell_type": "code",
      "source": [
        "# 만든 모델의 확인\n",
        "\n",
        "model.summary()"
      ],
      "metadata": {
        "colab": {
          "base_uri": "https://localhost:8080/"
        },
        "id": "fmybUNkV2Qtg",
        "outputId": "fb99ab96-b3f9-4ce2-eaf6-165d0fbe987f"
      },
      "execution_count": 65,
      "outputs": [
        {
          "output_type": "stream",
          "name": "stdout",
          "text": [
            "Model: \"model_2\"\n",
            "_________________________________________________________________\n",
            " Layer (type)                Output Shape              Param #   \n",
            "=================================================================\n",
            " input_5 (InputLayer)        [(None, 4)]               0         \n",
            "                                                                 \n",
            " dense_6 (Dense)             (None, 8)                 40        \n",
            "                                                                 \n",
            " dense_7 (Dense)             (None, 3)                 27        \n",
            "                                                                 \n",
            "=================================================================\n",
            "Total params: 67\n",
            "Trainable params: 67\n",
            "Non-trainable params: 0\n",
            "_________________________________________________________________\n"
          ]
        }
      ]
    },
    {
      "cell_type": "markdown",
      "source": [
        "### 3) 모델을 학습시킨다."
      ],
      "metadata": {
        "id": "6KFEIC3IxBoK"
      }
    },
    {
      "cell_type": "code",
      "source": [
        "# 모델을 학습시킨다\n",
        "\n",
        "model.fit(독립, 종속, epochs=1000, verbose=0)\n",
        "model.fit(독립, 종속, epochs=10)"
      ],
      "metadata": {
        "colab": {
          "base_uri": "https://localhost:8080/"
        },
        "id": "dKEyp3iw053k",
        "outputId": "139c975d-e5f0-4d45-8a18-3ea93f80fe83"
      },
      "execution_count": 63,
      "outputs": [
        {
          "output_type": "stream",
          "name": "stdout",
          "text": [
            "Epoch 1/10\n",
            "5/5 [==============================] - 0s 5ms/step - loss: 0.0615 - accuracy: 0.9867\n",
            "Epoch 2/10\n",
            "5/5 [==============================] - 0s 5ms/step - loss: 0.0627 - accuracy: 0.9667\n",
            "Epoch 3/10\n",
            "5/5 [==============================] - 0s 5ms/step - loss: 0.0601 - accuracy: 0.9867\n",
            "Epoch 4/10\n",
            "5/5 [==============================] - 0s 4ms/step - loss: 0.0616 - accuracy: 0.9733\n",
            "Epoch 5/10\n",
            "5/5 [==============================] - 0s 4ms/step - loss: 0.0603 - accuracy: 0.9800\n",
            "Epoch 6/10\n",
            "5/5 [==============================] - 0s 4ms/step - loss: 0.0605 - accuracy: 0.9667\n",
            "Epoch 7/10\n",
            "5/5 [==============================] - 0s 4ms/step - loss: 0.0604 - accuracy: 0.9733\n",
            "Epoch 8/10\n",
            "5/5 [==============================] - 0s 4ms/step - loss: 0.0605 - accuracy: 0.9800\n",
            "Epoch 9/10\n",
            "5/5 [==============================] - 0s 4ms/step - loss: 0.0612 - accuracy: 0.9600\n",
            "Epoch 10/10\n",
            "5/5 [==============================] - 0s 4ms/step - loss: 0.0603 - accuracy: 0.9667\n"
          ]
        },
        {
          "output_type": "execute_result",
          "data": {
            "text/plain": [
              "<keras.callbacks.History at 0x7f9fd0d93650>"
            ]
          },
          "metadata": {},
          "execution_count": 63
        }
      ]
    },
    {
      "cell_type": "markdown",
      "source": [
        "### 4) 모델을 이용한다"
      ],
      "metadata": {
        "id": "Ixiu6_hNxBoK"
      }
    },
    {
      "cell_type": "code",
      "source": [
        "print(model.predict(독립[0:5]))\n",
        "print(종속[0:5])"
      ],
      "metadata": {
        "colab": {
          "base_uri": "https://localhost:8080/"
        },
        "id": "hkejK5fU1Ifp",
        "outputId": "01492cc4-7485-47cb-d4e2-bb1c92c85ba3"
      },
      "execution_count": 64,
      "outputs": [
        {
          "output_type": "stream",
          "name": "stdout",
          "text": [
            "[[9.9973017e-01 2.5415749e-04 1.5623278e-05]\n",
            " [9.9974579e-01 2.5047749e-04 3.7267823e-06]\n",
            " [9.9968112e-01 3.0137127e-04 1.7468623e-05]\n",
            " [9.9970180e-01 2.9484762e-04 3.3615572e-06]\n",
            " [9.9968827e-01 2.8665442e-04 2.5126754e-05]]\n",
            "   품종_setosa  품종_versicolor  품종_virginica\n",
            "0          1              0             0\n",
            "1          1              0             0\n",
            "2          1              0             0\n",
            "3          1              0             0\n",
            "4          1              0             0\n"
          ]
        }
      ]
    },
    {
      "cell_type": "markdown",
      "source": [
        "\n",
        "\n",
        "*   첫번째 행에서 \n",
        "*   품종_setosa일 확률이 9.99..e-01(9.99...^-1)\n",
        "*   품종_versicolor일 확률이 2.54...e-04\n",
        "*   품종_virginica일 확률이 1.56...e-05\n",
        "\n"
      ],
      "metadata": {
        "id": "bvzS_0FX1b8C"
      }
    }
  ]
}