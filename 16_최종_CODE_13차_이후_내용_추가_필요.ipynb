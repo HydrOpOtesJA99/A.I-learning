{
  "nbformat": 4,
  "nbformat_minor": 0,
  "metadata": {
    "colab": {
      "name": "15_학습이_잘_되는_모델",
      "provenance": [],
      "collapsed_sections": [],
      "toc_visible": true,
      "authorship_tag": "ABX9TyMzCyMVGGhyKSznGDgqjUJR",
      "include_colab_link": true
    },
    "kernelspec": {
      "name": "python3",
      "display_name": "Python 3"
    },
    "language_info": {
      "name": "python"
    }
  },
  "cells": [
    {
      "cell_type": "markdown",
      "metadata": {
        "id": "view-in-github",
        "colab_type": "text"
      },
      "source": [
        "<a href=\"https://colab.research.google.com/github/HydrOpOtesJA99/A.I-learning/blob/main/16_%EC%B5%9C%EC%A2%85_CODE_13%EC%B0%A8_%EC%9D%B4%ED%9B%84_%EB%82%B4%EC%9A%A9_%EC%B6%94%EA%B0%80_%ED%95%84%EC%9A%94.ipynb\" target=\"_parent\"><img src=\"https://colab.research.google.com/assets/colab-badge.svg\" alt=\"Open In Colab\"/></a>"
      ]
    },
    {
      "cell_type": "markdown",
      "source": [
        "# 16_최종_CODE\n",
        "\n",
        "1. 사용할 레이어\n",
        "  *   tf.keras.layers.BtachNormalization()\n",
        "  *   tf.keras.layers.Activation('swish')\n",
        "2. 데이터\n",
        "  *   보스턴 집값 예측: https://raw.githubusercontent.com/blackdew/tensorflow1/master/csv/boston.csv\n",
        "  *   아이리스 품종 분류: https://raw.githubusercontent.com/blackdew/tensorflow1/master/csv/iris.csv"
      ],
      "metadata": {
        "id": "g0QKRe-QS9qS"
      }
    },
    {
      "cell_type": "code",
      "execution_count": 1,
      "metadata": {
        "id": "mlQYK-xVS5s2"
      },
      "outputs": [],
      "source": [
        "# 라이브러리 사용\n",
        "\n",
        "import pandas as pd\n",
        "import tensorflow as tf"
      ]
    },
    {
      "cell_type": "markdown",
      "source": [
        "## 1. 보스턴 집값 예측 (실수형 데이터)"
      ],
      "metadata": {
        "id": "zhYrDhIvlgaB"
      }
    },
    {
      "cell_type": "markdown",
      "source": [
        "### 1) 과거의 데이터 준비"
      ],
      "metadata": {
        "id": "VCvpcuKNljVr"
      }
    },
    {
      "cell_type": "code",
      "source": [
        "# 과거의 데이터 준비\n",
        "\n",
        "파일경로 = 'https://raw.githubusercontent.com/blackdew/tensorflow1/master/csv/boston.csv'\n",
        "보스턴 = pd.read_csv(파일경로)\n",
        "\n",
        "# 파일경로 제대로 연결되었는지 확인\n",
        "## 보스턴.head() \n",
        "\n",
        "print(보스턴.columns) # 필드명이 출력됨\n",
        "\n",
        "# 종속변수, 독립변수 준비\n",
        "\n",
        "독립 = 보스턴[['crim', 'zn', 'indus', 'chas', 'nox', 'rm', \n",
        "              'age', 'dis', 'rad', 'tax', 'ptratio', 'b', 'lstat']]\n",
        "종속 = 보스턴[['medv']]\n",
        "print('독립변수(행,열):',독립.shape, ', 종속변수(행,열):',종속.shape)"
      ],
      "metadata": {
        "colab": {
          "base_uri": "https://localhost:8080/"
        },
        "id": "14cSEqsUloUe",
        "outputId": "07da5f2f-d994-4426-a8dc-aac9207056a2"
      },
      "execution_count": 3,
      "outputs": [
        {
          "output_type": "stream",
          "name": "stdout",
          "text": [
            "Index(['crim', 'zn', 'indus', 'chas', 'nox', 'rm', 'age', 'dis', 'rad', 'tax',\n",
            "       'ptratio', 'b', 'lstat', 'medv'],\n",
            "      dtype='object')\n",
            "독립변수(행,열): (506, 13) , 종속변수(행,열): (506, 1)\n"
          ]
        }
      ]
    },
    {
      "cell_type": "markdown",
      "source": [
        "### 2) 모델의 구조를 만든다 \n",
        "- 참고(https://www.tensorflow.org/guide/keras?hl=ko)"
      ],
      "metadata": {
        "id": "l0dfPvWxln-f"
      }
    },
    {
      "cell_type": "markdown",
      "source": [
        ""
      ],
      "metadata": {
        "id": "O55DLa4Q4LKn"
      }
    },
    {
      "cell_type": "code",
      "source": [
        "# 모델의 구조를 만든다 \n",
        "## tf.keras는 딥러닝 모델을빌드하고 학습시키기 위한 Tensorflow의 상위 수준 API\n",
        "### 히든레이어 활성화 함수 관련 설명 git hub / A.I-learning 12_히든레이어.ipynb 확인\n",
        "### URL: https://url.kr/bowe6l \n",
        "\n",
        "X = tf.keras.layers.Input(shape=[13]) # '13' -> 준비된 '독립변수'의 개수 \n",
        "\n",
        "H = tf.keras.layers.Dense(8)(X)  # '8' -> 준비된 '종속변수'의 개수\n",
        "H = tf.keras.layers.BatchNormalization()(H) \n",
        "H = tf.keras.layers.Activation('swish')(H) \n",
        "\n",
        "H = tf.keras.layers.Dense(8)(H)\n",
        "H = tf.keras.layers.BatchNormalization()(H)\n",
        "H = tf.keras.layers.Activation('swish')(H)\n",
        "\n",
        "H = tf.keras.layers.Dense(8)(H)\n",
        "H = tf.keras.layers.BatchNormalization()(H)\n",
        "H = tf.keras.layers.Activation('swish')(H)\n",
        "\n",
        "Y = tf.keras.layers.Dense(1)(H)  # 'H'로 바꾸는것 잊지말기!!\n",
        "model = tf.keras.models.Model(X,Y)\n",
        "model.compile(loss='mse')  # MSE(Mean Squeared Error) - 오차의 제곱에 대한 평균, 값과 정확도는 반비례"
      ],
      "metadata": {
        "id": "Q0abRGpRYm3J"
      },
      "execution_count": 4,
      "outputs": []
    },
    {
      "cell_type": "markdown",
      "source": [
        "### 2-1) 만든 모델의 확인"
      ],
      "metadata": {
        "id": "vHsPpxUd2ISo"
      }
    },
    {
      "cell_type": "code",
      "source": [
        "# 만든 모델의 확인\n",
        "\n",
        "model.summary()"
      ],
      "metadata": {
        "colab": {
          "base_uri": "https://localhost:8080/"
        },
        "id": "wjfNQ4curlUd",
        "outputId": "b22fad49-48c2-4a5a-ce9c-aa43676a36dd"
      },
      "execution_count": 5,
      "outputs": [
        {
          "output_type": "stream",
          "name": "stdout",
          "text": [
            "Model: \"model\"\n",
            "_________________________________________________________________\n",
            " Layer (type)                Output Shape              Param #   \n",
            "=================================================================\n",
            " input_1 (InputLayer)        [(None, 13)]              0         \n",
            "                                                                 \n",
            " dense (Dense)               (None, 8)                 112       \n",
            "                                                                 \n",
            " batch_normalization (BatchN  (None, 8)                32        \n",
            " ormalization)                                                   \n",
            "                                                                 \n",
            " activation (Activation)     (None, 8)                 0         \n",
            "                                                                 \n",
            " dense_1 (Dense)             (None, 8)                 72        \n",
            "                                                                 \n",
            " batch_normalization_1 (Batc  (None, 8)                32        \n",
            " hNormalization)                                                 \n",
            "                                                                 \n",
            " activation_1 (Activation)   (None, 8)                 0         \n",
            "                                                                 \n",
            " dense_2 (Dense)             (None, 8)                 72        \n",
            "                                                                 \n",
            " batch_normalization_2 (Batc  (None, 8)                32        \n",
            " hNormalization)                                                 \n",
            "                                                                 \n",
            " activation_2 (Activation)   (None, 8)                 0         \n",
            "                                                                 \n",
            " dense_3 (Dense)             (None, 1)                 9         \n",
            "                                                                 \n",
            "=================================================================\n",
            "Total params: 361\n",
            "Trainable params: 313\n",
            "Non-trainable params: 48\n",
            "_________________________________________________________________\n"
          ]
        }
      ]
    },
    {
      "cell_type": "markdown",
      "source": [
        "### 3) 모델을 학습시킨다."
      ],
      "metadata": {
        "id": "aZxq94Lnqj64"
      }
    },
    {
      "cell_type": "code",
      "source": [
        "# 모델을 학습시킨다\n",
        "# fit -> 학습하는 도구\n",
        "\n",
        "model.fit(독립, 종속, epochs=1000, verbose=0)  # verbose=0 -> 학습현황이 뜨지 않게 함\n",
        "model.fit(독립, 종속, epochs=10)  # epochs=N -> N번 학습 명령어\n",
        "\n",
        "# 학습이 끝나면 <keras.callbacks.History at 0x7fa7743df890> 이런 word 뜸"
      ],
      "metadata": {
        "colab": {
          "base_uri": "https://localhost:8080/"
        },
        "id": "PAtEVUvzqzlH",
        "outputId": "b64477cb-d889-4e3d-8430-26bca53d8565"
      },
      "execution_count": 6,
      "outputs": [
        {
          "output_type": "stream",
          "name": "stdout",
          "text": [
            "Epoch 1/10\n",
            "16/16 [==============================] - 0s 2ms/step - loss: 10.0964\n",
            "Epoch 2/10\n",
            "16/16 [==============================] - 0s 2ms/step - loss: 12.9559\n",
            "Epoch 3/10\n",
            "16/16 [==============================] - 0s 3ms/step - loss: 12.3318\n",
            "Epoch 4/10\n",
            "16/16 [==============================] - 0s 3ms/step - loss: 12.3908\n",
            "Epoch 5/10\n",
            "16/16 [==============================] - 0s 2ms/step - loss: 12.4621\n",
            "Epoch 6/10\n",
            "16/16 [==============================] - 0s 2ms/step - loss: 11.9606\n",
            "Epoch 7/10\n",
            "16/16 [==============================] - 0s 3ms/step - loss: 11.6852\n",
            "Epoch 8/10\n",
            "16/16 [==============================] - 0s 2ms/step - loss: 11.7953\n",
            "Epoch 9/10\n",
            "16/16 [==============================] - 0s 2ms/step - loss: 10.8449\n",
            "Epoch 10/10\n",
            "16/16 [==============================] - 0s 2ms/step - loss: 9.6254\n"
          ]
        },
        {
          "output_type": "execute_result",
          "data": {
            "text/plain": [
              "<keras.callbacks.History at 0x7f5f268d70d0>"
            ]
          },
          "metadata": {},
          "execution_count": 6
        }
      ]
    },
    {
      "cell_type": "markdown",
      "source": [
        "### 3-1) 학습한 가중치 확인"
      ],
      "metadata": {
        "id": "4cLHiWdZBEv3"
      }
    },
    {
      "cell_type": "code",
      "source": [
        "# 학습한 가중치 확인\n",
        "## 가중치 해석은 github A.I-learning / 11_아이리스_품종_분류_실습.ipynb 확인 (제일 밑에 적혀 있음)\n",
        "### URL: https://url.kr/4i6ap9\n",
        "\n",
        "model.get_weights()"
      ],
      "metadata": {
        "id": "QbwNEA1MBHL-"
      },
      "execution_count": null,
      "outputs": []
    },
    {
      "cell_type": "markdown",
      "source": [
        "### 4) 모델을 이용한다"
      ],
      "metadata": {
        "id": "LCnovLn-5CGU"
      }
    },
    {
      "cell_type": "code",
      "source": [
        "# 모델을 이용한다\n",
        "# 학습 완료 모델에 새로운 값을 넣어 결과 확인\n",
        "\n",
        "print(model.predict(독립[:5])) # '독립[:5]' -> [파이썬의 slicing] 맨 앞에서부터 predict한 값을 5개 print하라\n",
        "print(종속[:5])\n",
        "\n",
        "# 독립[-5:] -> 뒤에서부터 5개의 값을 print 하라"
      ],
      "metadata": {
        "id": "tgLx6-ic5pyA",
        "colab": {
          "base_uri": "https://localhost:8080/"
        },
        "outputId": "e5cca4a0-b96d-401c-9a5a-99a4f574f45b"
      },
      "execution_count": 8,
      "outputs": [
        {
          "output_type": "stream",
          "name": "stdout",
          "text": [
            "[[24.879606]\n",
            " [23.896315]\n",
            " [32.738857]\n",
            " [31.684319]\n",
            " [32.737877]]\n",
            "   medv\n",
            "0  24.0\n",
            "1  21.6\n",
            "2  34.7\n",
            "3  33.4\n",
            "4  36.2\n"
          ]
        }
      ]
    },
    {
      "cell_type": "markdown",
      "source": [
        "## 2. 아이리스 품종 분류 (범주형 데이터)"
      ],
      "metadata": {
        "id": "3BweuEYKw50z"
      }
    },
    {
      "cell_type": "markdown",
      "source": [
        "### 1) 과거의 데이터 준비"
      ],
      "metadata": {
        "id": "Hn6cwGwvxBoK"
      }
    },
    {
      "cell_type": "code",
      "source": [
        "# 과거의 데이터 준비\n",
        "\n",
        "파일경로 = 'https://raw.githubusercontent.com/blackdew/tensorflow1/master/csv/iris.csv'\n",
        "아이리스 = pd.read_csv(파일경로)\n",
        "아이리스.head() # 파일경로가 제대로 연결되었는지 확인"
      ],
      "metadata": {
        "colab": {
          "base_uri": "https://localhost:8080/",
          "height": 206
        },
        "id": "8UrqqNawxDxg",
        "outputId": "8465ceee-774c-4ee7-c702-342fef89a406"
      },
      "execution_count": 9,
      "outputs": [
        {
          "output_type": "execute_result",
          "data": {
            "text/plain": [
              "   꽃잎길이  꽃잎폭  꽃받침길이  꽃받침폭      품종\n",
              "0   5.1  3.5    1.4   0.2  setosa\n",
              "1   4.9  3.0    1.4   0.2  setosa\n",
              "2   4.7  3.2    1.3   0.2  setosa\n",
              "3   4.6  3.1    1.5   0.2  setosa\n",
              "4   5.0  3.6    1.4   0.2  setosa"
            ],
            "text/html": [
              "\n",
              "  <div id=\"df-87f56cb8-2fa4-4e40-ba14-fb534be4c06e\">\n",
              "    <div class=\"colab-df-container\">\n",
              "      <div>\n",
              "<style scoped>\n",
              "    .dataframe tbody tr th:only-of-type {\n",
              "        vertical-align: middle;\n",
              "    }\n",
              "\n",
              "    .dataframe tbody tr th {\n",
              "        vertical-align: top;\n",
              "    }\n",
              "\n",
              "    .dataframe thead th {\n",
              "        text-align: right;\n",
              "    }\n",
              "</style>\n",
              "<table border=\"1\" class=\"dataframe\">\n",
              "  <thead>\n",
              "    <tr style=\"text-align: right;\">\n",
              "      <th></th>\n",
              "      <th>꽃잎길이</th>\n",
              "      <th>꽃잎폭</th>\n",
              "      <th>꽃받침길이</th>\n",
              "      <th>꽃받침폭</th>\n",
              "      <th>품종</th>\n",
              "    </tr>\n",
              "  </thead>\n",
              "  <tbody>\n",
              "    <tr>\n",
              "      <th>0</th>\n",
              "      <td>5.1</td>\n",
              "      <td>3.5</td>\n",
              "      <td>1.4</td>\n",
              "      <td>0.2</td>\n",
              "      <td>setosa</td>\n",
              "    </tr>\n",
              "    <tr>\n",
              "      <th>1</th>\n",
              "      <td>4.9</td>\n",
              "      <td>3.0</td>\n",
              "      <td>1.4</td>\n",
              "      <td>0.2</td>\n",
              "      <td>setosa</td>\n",
              "    </tr>\n",
              "    <tr>\n",
              "      <th>2</th>\n",
              "      <td>4.7</td>\n",
              "      <td>3.2</td>\n",
              "      <td>1.3</td>\n",
              "      <td>0.2</td>\n",
              "      <td>setosa</td>\n",
              "    </tr>\n",
              "    <tr>\n",
              "      <th>3</th>\n",
              "      <td>4.6</td>\n",
              "      <td>3.1</td>\n",
              "      <td>1.5</td>\n",
              "      <td>0.2</td>\n",
              "      <td>setosa</td>\n",
              "    </tr>\n",
              "    <tr>\n",
              "      <th>4</th>\n",
              "      <td>5.0</td>\n",
              "      <td>3.6</td>\n",
              "      <td>1.4</td>\n",
              "      <td>0.2</td>\n",
              "      <td>setosa</td>\n",
              "    </tr>\n",
              "  </tbody>\n",
              "</table>\n",
              "</div>\n",
              "      <button class=\"colab-df-convert\" onclick=\"convertToInteractive('df-87f56cb8-2fa4-4e40-ba14-fb534be4c06e')\"\n",
              "              title=\"Convert this dataframe to an interactive table.\"\n",
              "              style=\"display:none;\">\n",
              "        \n",
              "  <svg xmlns=\"http://www.w3.org/2000/svg\" height=\"24px\"viewBox=\"0 0 24 24\"\n",
              "       width=\"24px\">\n",
              "    <path d=\"M0 0h24v24H0V0z\" fill=\"none\"/>\n",
              "    <path d=\"M18.56 5.44l.94 2.06.94-2.06 2.06-.94-2.06-.94-.94-2.06-.94 2.06-2.06.94zm-11 1L8.5 8.5l.94-2.06 2.06-.94-2.06-.94L8.5 2.5l-.94 2.06-2.06.94zm10 10l.94 2.06.94-2.06 2.06-.94-2.06-.94-.94-2.06-.94 2.06-2.06.94z\"/><path d=\"M17.41 7.96l-1.37-1.37c-.4-.4-.92-.59-1.43-.59-.52 0-1.04.2-1.43.59L10.3 9.45l-7.72 7.72c-.78.78-.78 2.05 0 2.83L4 21.41c.39.39.9.59 1.41.59.51 0 1.02-.2 1.41-.59l7.78-7.78 2.81-2.81c.8-.78.8-2.07 0-2.86zM5.41 20L4 18.59l7.72-7.72 1.47 1.35L5.41 20z\"/>\n",
              "  </svg>\n",
              "      </button>\n",
              "      \n",
              "  <style>\n",
              "    .colab-df-container {\n",
              "      display:flex;\n",
              "      flex-wrap:wrap;\n",
              "      gap: 12px;\n",
              "    }\n",
              "\n",
              "    .colab-df-convert {\n",
              "      background-color: #E8F0FE;\n",
              "      border: none;\n",
              "      border-radius: 50%;\n",
              "      cursor: pointer;\n",
              "      display: none;\n",
              "      fill: #1967D2;\n",
              "      height: 32px;\n",
              "      padding: 0 0 0 0;\n",
              "      width: 32px;\n",
              "    }\n",
              "\n",
              "    .colab-df-convert:hover {\n",
              "      background-color: #E2EBFA;\n",
              "      box-shadow: 0px 1px 2px rgba(60, 64, 67, 0.3), 0px 1px 3px 1px rgba(60, 64, 67, 0.15);\n",
              "      fill: #174EA6;\n",
              "    }\n",
              "\n",
              "    [theme=dark] .colab-df-convert {\n",
              "      background-color: #3B4455;\n",
              "      fill: #D2E3FC;\n",
              "    }\n",
              "\n",
              "    [theme=dark] .colab-df-convert:hover {\n",
              "      background-color: #434B5C;\n",
              "      box-shadow: 0px 1px 3px 1px rgba(0, 0, 0, 0.15);\n",
              "      filter: drop-shadow(0px 1px 2px rgba(0, 0, 0, 0.3));\n",
              "      fill: #FFFFFF;\n",
              "    }\n",
              "  </style>\n",
              "\n",
              "      <script>\n",
              "        const buttonEl =\n",
              "          document.querySelector('#df-87f56cb8-2fa4-4e40-ba14-fb534be4c06e button.colab-df-convert');\n",
              "        buttonEl.style.display =\n",
              "          google.colab.kernel.accessAllowed ? 'block' : 'none';\n",
              "\n",
              "        async function convertToInteractive(key) {\n",
              "          const element = document.querySelector('#df-87f56cb8-2fa4-4e40-ba14-fb534be4c06e');\n",
              "          const dataTable =\n",
              "            await google.colab.kernel.invokeFunction('convertToInteractive',\n",
              "                                                     [key], {});\n",
              "          if (!dataTable) return;\n",
              "\n",
              "          const docLinkHtml = 'Like what you see? Visit the ' +\n",
              "            '<a target=\"_blank\" href=https://colab.research.google.com/notebooks/data_table.ipynb>data table notebook</a>'\n",
              "            + ' to learn more about interactive tables.';\n",
              "          element.innerHTML = '';\n",
              "          dataTable['output_type'] = 'display_data';\n",
              "          await google.colab.output.renderOutput(dataTable, element);\n",
              "          const docLink = document.createElement('div');\n",
              "          docLink.innerHTML = docLinkHtml;\n",
              "          element.appendChild(docLink);\n",
              "        }\n",
              "      </script>\n",
              "    </div>\n",
              "  </div>\n",
              "  "
            ]
          },
          "metadata": {},
          "execution_count": 9
        }
      ]
    },
    {
      "cell_type": "markdown",
      "source": [
        "### 1-1) 원핫인코딩(범주형 데이터)"
      ],
      "metadata": {
        "id": "IM_7I4XuyH-n"
      }
    },
    {
      "cell_type": "code",
      "source": [
        "# 원핫인코딩\n",
        "## 원핫인 코딩? 범주형 데이터(문자)를 실수형 데이터로 바꾸는 작업\n",
        "\n",
        "아이리스 = pd.get_dummies(아이리스)\n",
        "아이리스.head\n",
        "\n",
        "#print(아이리스.columns)"
      ],
      "metadata": {
        "colab": {
          "base_uri": "https://localhost:8080/"
        },
        "id": "snQ6PinKyR2L",
        "outputId": "df92ff66-040c-4ab9-f23f-4e30aa55b728"
      },
      "execution_count": 10,
      "outputs": [
        {
          "output_type": "execute_result",
          "data": {
            "text/plain": [
              "<bound method NDFrame.head of      꽃잎길이  꽃잎폭  꽃받침길이  꽃받침폭  품종_setosa  품종_versicolor  품종_virginica\n",
              "0     5.1  3.5    1.4   0.2          1              0             0\n",
              "1     4.9  3.0    1.4   0.2          1              0             0\n",
              "2     4.7  3.2    1.3   0.2          1              0             0\n",
              "3     4.6  3.1    1.5   0.2          1              0             0\n",
              "4     5.0  3.6    1.4   0.2          1              0             0\n",
              "..    ...  ...    ...   ...        ...            ...           ...\n",
              "145   6.7  3.0    5.2   2.3          0              0             1\n",
              "146   6.3  2.5    5.0   1.9          0              0             1\n",
              "147   6.5  3.0    5.2   2.0          0              0             1\n",
              "148   6.2  3.4    5.4   2.3          0              0             1\n",
              "149   5.9  3.0    5.1   1.8          0              0             1\n",
              "\n",
              "[150 rows x 7 columns]>"
            ]
          },
          "metadata": {},
          "execution_count": 10
        }
      ]
    },
    {
      "cell_type": "code",
      "source": [
        "# 종속변수, 독립변수 설정\n",
        "\n",
        "독립 = 아이리스[['꽃잎길이', '꽃잎폭', '꽃받침길이', '꽃받침폭']]\n",
        "종속 = 아이리스[['품종_setosa', '품종_versicolor', '품종_virginica']]\n",
        "print(독립.shape, 종속.shape)"
      ],
      "metadata": {
        "colab": {
          "base_uri": "https://localhost:8080/"
        },
        "id": "a-eMwQR7yxqv",
        "outputId": "6add2e8b-c1f2-415b-c733-4223a45a8309"
      },
      "execution_count": 11,
      "outputs": [
        {
          "output_type": "stream",
          "name": "stdout",
          "text": [
            "(150, 4) (150, 3)\n"
          ]
        }
      ]
    },
    {
      "cell_type": "markdown",
      "source": [
        "### 2) 모델의 구조를 만든다 "
      ],
      "metadata": {
        "id": "aqDsE2jMxBoK"
      }
    },
    {
      "cell_type": "code",
      "source": [
        "# 모델의 구조를 만든다 \n",
        "## tf.keras는 딥러닝 모델을빌드하고 학습시키기 위한 Tensorflow의 상위 수준 API\n",
        "### 히든레이어 활성화 함수 관련 설명 git hub / A.I-learning 12_히든레이어.ipynb 확인\n",
        "### URL: https://url.kr/bowe6l \n",
        "\n",
        "X = tf.keras.layers.Input(shape=[4])\n",
        "\n",
        "H = tf.keras.layers.Dense(8)(X)\n",
        "H = tf.keras.layers.BatchNormalization()(H)\n",
        "H = tf.keras.layers.Activation('swish')(H)\n",
        "\n",
        "H = tf.keras.layers.Dense(8)(H) \n",
        "H = tf.keras.layers.BatchNormalization()(H)\n",
        "H = tf.keras.layers.Activation('swish')(H)\n",
        "\n",
        "H = tf.keras.layers.Dense(8)(H)\n",
        "H = tf.keras.layers.BatchNormalization()(H)\n",
        "H = tf.keras.layers.Activation('swish')(H)\n",
        "\n",
        "Y = tf.keras.layers.Dense(3, activation = 'softmax')(H) # softmax -> 비율(0~1사이의 실수)로 예측하기 위해 사용\n",
        "model = tf.keras.models.Model(X,Y)\n",
        "model.compile(loss='categorical_crossentropy', metrics='accuracy') \n",
        "\n",
        "# 분류모델에서는 회귀 모델과 달리loss로 나오는 값이 crossentropy를 통해 계산된 차이값을 이용해 나온다"
      ],
      "metadata": {
        "id": "f0pZD-H4nBN9"
      },
      "execution_count": 12,
      "outputs": []
    },
    {
      "cell_type": "markdown",
      "source": [
        "### 2-1) 만든 모델의 확인"
      ],
      "metadata": {
        "id": "Zr6HnL8Y2CA2"
      }
    },
    {
      "cell_type": "code",
      "source": [
        "# 만든 모델의 확인\n",
        "\n",
        "model.summary()"
      ],
      "metadata": {
        "colab": {
          "base_uri": "https://localhost:8080/"
        },
        "id": "fmybUNkV2Qtg",
        "outputId": "7e11fa48-af7d-4895-b88b-245dbf3a165e"
      },
      "execution_count": 13,
      "outputs": [
        {
          "output_type": "stream",
          "name": "stdout",
          "text": [
            "Model: \"model_1\"\n",
            "_________________________________________________________________\n",
            " Layer (type)                Output Shape              Param #   \n",
            "=================================================================\n",
            " input_2 (InputLayer)        [(None, 4)]               0         \n",
            "                                                                 \n",
            " dense_4 (Dense)             (None, 8)                 40        \n",
            "                                                                 \n",
            " batch_normalization_3 (Batc  (None, 8)                32        \n",
            " hNormalization)                                                 \n",
            "                                                                 \n",
            " activation_3 (Activation)   (None, 8)                 0         \n",
            "                                                                 \n",
            " dense_5 (Dense)             (None, 8)                 72        \n",
            "                                                                 \n",
            " batch_normalization_4 (Batc  (None, 8)                32        \n",
            " hNormalization)                                                 \n",
            "                                                                 \n",
            " activation_4 (Activation)   (None, 8)                 0         \n",
            "                                                                 \n",
            " dense_6 (Dense)             (None, 8)                 72        \n",
            "                                                                 \n",
            " batch_normalization_5 (Batc  (None, 8)                32        \n",
            " hNormalization)                                                 \n",
            "                                                                 \n",
            " activation_5 (Activation)   (None, 8)                 0         \n",
            "                                                                 \n",
            " dense_7 (Dense)             (None, 3)                 27        \n",
            "                                                                 \n",
            "=================================================================\n",
            "Total params: 307\n",
            "Trainable params: 259\n",
            "Non-trainable params: 48\n",
            "_________________________________________________________________\n"
          ]
        }
      ]
    },
    {
      "cell_type": "markdown",
      "source": [
        "### 3) 모델을 학습시킨다."
      ],
      "metadata": {
        "id": "6KFEIC3IxBoK"
      }
    },
    {
      "cell_type": "code",
      "source": [
        "# 모델을 학습시킨다\n",
        "\n",
        "model.fit(독립, 종속, epochs=1000, verbose=0)\n",
        "model.fit(독립, 종속, epochs=10)\n",
        "\n",
        "# accuracy = 1 = 모두 맞음, accuracy = 0 = 모두 틀림"
      ],
      "metadata": {
        "colab": {
          "base_uri": "https://localhost:8080/"
        },
        "id": "dKEyp3iw053k",
        "outputId": "2fe9ca5d-5bf8-479a-c6a2-e42288f29b05"
      },
      "execution_count": 14,
      "outputs": [
        {
          "output_type": "stream",
          "name": "stdout",
          "text": [
            "Epoch 1/10\n",
            "5/5 [==============================] - 0s 5ms/step - loss: 0.0482 - accuracy: 0.9800\n",
            "Epoch 2/10\n",
            "5/5 [==============================] - 0s 4ms/step - loss: 0.0467 - accuracy: 0.9733\n",
            "Epoch 3/10\n",
            "5/5 [==============================] - 0s 4ms/step - loss: 0.0651 - accuracy: 0.9733\n",
            "Epoch 4/10\n",
            "5/5 [==============================] - 0s 4ms/step - loss: 0.0593 - accuracy: 0.9667\n",
            "Epoch 5/10\n",
            "5/5 [==============================] - 0s 5ms/step - loss: 0.0447 - accuracy: 0.9733\n",
            "Epoch 6/10\n",
            "5/5 [==============================] - 0s 4ms/step - loss: 0.0306 - accuracy: 0.9867\n",
            "Epoch 7/10\n",
            "5/5 [==============================] - 0s 4ms/step - loss: 0.0354 - accuracy: 0.9867\n",
            "Epoch 8/10\n",
            "5/5 [==============================] - 0s 4ms/step - loss: 0.0755 - accuracy: 0.9667\n",
            "Epoch 9/10\n",
            "5/5 [==============================] - 0s 4ms/step - loss: 0.0500 - accuracy: 0.9733\n",
            "Epoch 10/10\n",
            "5/5 [==============================] - 0s 4ms/step - loss: 0.0341 - accuracy: 0.9867\n"
          ]
        },
        {
          "output_type": "execute_result",
          "data": {
            "text/plain": [
              "<keras.callbacks.History at 0x7f5f2a1270d0>"
            ]
          },
          "metadata": {},
          "execution_count": 14
        }
      ]
    },
    {
      "cell_type": "markdown",
      "source": [
        "### 3-1) 학습한 가중치 확인"
      ],
      "metadata": {
        "id": "e0z3kwIHA6-r"
      }
    },
    {
      "cell_type": "code",
      "source": [
        "# 학습한 가중치 확인\n",
        "## 가중치 해석은 github A.I-learning / 11_아이리스_품종_분류_실습.ipynb 확인 (제일 밑에 적혀 있음)\n",
        "### URL: https://url.kr/4i6ap9\n",
        "\n",
        "model.get_weights()"
      ],
      "metadata": {
        "id": "FAwdUBYtA-3T"
      },
      "execution_count": null,
      "outputs": []
    },
    {
      "cell_type": "markdown",
      "source": [
        "### 4) 모델을 이용한다"
      ],
      "metadata": {
        "id": "Q-3aRnZ87VKi"
      }
    },
    {
      "cell_type": "code",
      "source": [
        "print(model.predict(독립[0:5])) # predict한 값을 처음부터 5개 print 하라\n",
        "print(종속[0:5])\n",
        "\n",
        "# 독립[-5:] -> 뒤에서부터 5개의 값을 print 하라"
      ],
      "metadata": {
        "colab": {
          "base_uri": "https://localhost:8080/"
        },
        "id": "OpuyOHkw7XUq",
        "outputId": "f91aa76a-37c2-451f-e29c-f71890ea7a29"
      },
      "execution_count": 16,
      "outputs": [
        {
          "output_type": "stream",
          "name": "stdout",
          "text": [
            "[[9.9999917e-01 8.3063634e-07 3.8844156e-08]\n",
            " [9.9999201e-01 7.6074093e-06 3.4506004e-07]\n",
            " [9.9999905e-01 9.5004503e-07 3.3506389e-08]\n",
            " [9.9999309e-01 6.8411446e-06 1.4255083e-07]\n",
            " [9.9999952e-01 4.7728298e-07 1.7136522e-08]]\n",
            "   품종_setosa  품종_versicolor  품종_virginica\n",
            "0          1              0             0\n",
            "1          1              0             0\n",
            "2          1              0             0\n",
            "3          1              0             0\n",
            "4          1              0             0\n"
          ]
        }
      ]
    },
    {
      "cell_type": "code",
      "source": [
        ""
      ],
      "metadata": {
        "id": "6E6PrkWzBoJ9"
      },
      "execution_count": null,
      "outputs": []
    }
  ]
}