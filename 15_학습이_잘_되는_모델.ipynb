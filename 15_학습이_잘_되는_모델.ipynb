{
  "nbformat": 4,
  "nbformat_minor": 0,
  "metadata": {
    "colab": {
      "name": "15_학습이_잘_되는_모델",
      "provenance": [],
      "collapsed_sections": [],
      "toc_visible": true,
      "authorship_tag": "ABX9TyPhv0ruCVrG4NY2WHRiPoeW",
      "include_colab_link": true
    },
    "kernelspec": {
      "name": "python3",
      "display_name": "Python 3"
    },
    "language_info": {
      "name": "python"
    }
  },
  "cells": [
    {
      "cell_type": "markdown",
      "metadata": {
        "id": "view-in-github",
        "colab_type": "text"
      },
      "source": [
        "<a href=\"https://colab.research.google.com/github/HydrOpOtesJA99/A.I-learning/blob/main/15_%ED%95%99%EC%8A%B5%EC%9D%B4_%EC%9E%98_%EB%90%98%EB%8A%94_%EB%AA%A8%EB%8D%B8.ipynb\" target=\"_parent\"><img src=\"https://colab.research.google.com/assets/colab-badge.svg\" alt=\"Open In Colab\"/></a>"
      ]
    },
    {
      "cell_type": "markdown",
      "source": [
        "# 15_학습이_잘되는_모델\n",
        "\n",
        "1. 사용할 레이어\n",
        "  *   tf.keras.layers.BtachNormalization()\n",
        "  *   tf.keras.layers.Activation('swish')\n",
        "2. 데이터\n",
        "  *   보스턴 집값 예측: https://raw.githubusercontent.com/blackdew/tensorflow1/master/csv/boston.csv\n",
        "  *   아이리스 품종 분류: https://raw.githubusercontent.com/blackdew/tensorflow1/master/csv/iris.csv"
      ],
      "metadata": {
        "id": "g0QKRe-QS9qS"
      }
    },
    {
      "cell_type": "code",
      "execution_count": 1,
      "metadata": {
        "id": "mlQYK-xVS5s2"
      },
      "outputs": [],
      "source": [
        "# 라이브러리 사용\n",
        "\n",
        "import pandas as pd\n",
        "import tensorflow as tf"
      ]
    },
    {
      "cell_type": "markdown",
      "source": [
        "## 1. 보스턴 집값 예측 (13차시 코드 그대로 가지고 옴)"
      ],
      "metadata": {
        "id": "zhYrDhIvlgaB"
      }
    },
    {
      "cell_type": "markdown",
      "source": [
        "### 1) 과거의 데이터 준비 (변경점 X)"
      ],
      "metadata": {
        "id": "VCvpcuKNljVr"
      }
    },
    {
      "cell_type": "code",
      "source": [
        "# 과거의 데이터 준비\n",
        "파일경로 = 'https://raw.githubusercontent.com/blackdew/tensorflow1/master/csv/boston.csv'\n",
        "보스턴 = pd.read_csv(파일경로)\n",
        "\n",
        "# 보스턴.head() # 파일경로 제대로 연결되었는지 확인\n",
        "print(보스턴.columns)\n",
        "\n",
        "# 종속변수, 독립변수 준비\n",
        "독립 = 보스턴[['crim', 'zn', 'indus', 'chas', 'nox', 'rm', \n",
        "              'age', 'dis', 'rad', 'tax', 'ptratio', 'b', 'lstat']]\n",
        "종속 = 보스턴[['medv']]\n",
        "\n",
        "print('독립변수(행,열):',독립.shape, ', 종속변수(행,열):',종속.shape)"
      ],
      "metadata": {
        "colab": {
          "base_uri": "https://localhost:8080/"
        },
        "id": "14cSEqsUloUe",
        "outputId": "d89b52bf-acfd-4b3b-cd2a-b343f3429df5"
      },
      "execution_count": 11,
      "outputs": [
        {
          "output_type": "stream",
          "name": "stdout",
          "text": [
            "Index(['crim', 'zn', 'indus', 'chas', 'nox', 'rm', 'age', 'dis', 'rad', 'tax',\n",
            "       'ptratio', 'b', 'lstat', 'medv'],\n",
            "      dtype='object')\n",
            "독립변수(행,열): (506, 13) , 종속변수(행,열): (506, 1)\n"
          ]
        }
      ]
    },
    {
      "cell_type": "markdown",
      "source": [
        "### **2) 모델의 구조를 만든다 (본 차시에서 가장 봐야할 곳)**"
      ],
      "metadata": {
        "id": "l0dfPvWxln-f"
      }
    },
    {
      "cell_type": "markdown",
      "source": [
        "#### 기존코드)"
      ],
      "metadata": {
        "id": "S9a_C_8PbaJO"
      }
    },
    {
      "cell_type": "code",
      "source": [
        "# 모델의 구조를 만든다 (기존 코드)\n",
        "X = tf.keras.layers.Input(shape=[13])\n",
        "H = tf.keras.layers.Dense(8, activation ='swish')(X)\n",
        "H = tf.keras.layers.Dense(8, activation ='swish')(H)\n",
        "H = tf.keras.layers.Dense(8, activation ='swish')(H)\n",
        "Y = tf.keras.layers.Dense(1)(H) # 'H'로 바꾸는것 잊지말기\n",
        "model = tf.keras.models.Model(X,Y)\n",
        "model.compile(loss='mse')"
      ],
      "metadata": {
        "id": "YNfXZB83pLZ1"
      },
      "execution_count": 16,
      "outputs": []
    },
    {
      "cell_type": "markdown",
      "source": [
        "#### 변경코드)"
      ],
      "metadata": {
        "id": "91LR1hqqbjRG"
      }
    },
    {
      "cell_type": "code",
      "source": [
        "# 모델의 구조를 만든다\n",
        "X = tf.keras.layers.Input(shape=[13])\n",
        "\n",
        "H = tf.keras.layers.Dense(8)(X)\n",
        "H = tf.keras.layers.BatchNormalization()(H)\n",
        "H = tf.keras.layers.Activation('swish')(H)\n",
        "\n",
        "H = tf.keras.layers.Dense(8)(H)\n",
        "H = tf.keras.layers.BatchNormalization()(H)\n",
        "H = tf.keras.layers.Activation('swish')(H)\n",
        "\n",
        "H = tf.keras.layers.Dense(8)(H)\n",
        "H = tf.keras.layers.BatchNormalization()(H)\n",
        "H = tf.keras.layers.Activation('swish')(H)\n",
        "\n",
        "Y = tf.keras.layers.Dense(1)(H) # 'H'로 바꾸는것 잊지말기\n",
        "model = tf.keras.models.Model(X,Y)\n",
        "model.compile(loss='mse')"
      ],
      "metadata": {
        "id": "Q0abRGpRYm3J"
      },
      "execution_count": 18,
      "outputs": []
    },
    {
      "cell_type": "markdown",
      "source": [
        "\n",
        "\n",
        "*   Batchnormalization을 Dense, Activation 사이에 위치시키면 더욱 효율적이기에 Dense, Activation을 분리하였다\n"
      ],
      "metadata": {
        "id": "pZ1UieWeaFje"
      }
    },
    {
      "cell_type": "markdown",
      "source": [
        "### 2-1) 만든 모델의 확인"
      ],
      "metadata": {
        "id": "vHsPpxUd2ISo"
      }
    },
    {
      "cell_type": "code",
      "source": [
        "# 만든 모델의 확인\n",
        "model.summary()"
      ],
      "metadata": {
        "colab": {
          "base_uri": "https://localhost:8080/"
        },
        "id": "wjfNQ4curlUd",
        "outputId": "d4d0c7ff-0f54-4b9d-b9c6-7704d6ff8886"
      },
      "execution_count": 19,
      "outputs": [
        {
          "output_type": "stream",
          "name": "stdout",
          "text": [
            "Model: \"model_2\"\n",
            "_________________________________________________________________\n",
            " Layer (type)                Output Shape              Param #   \n",
            "=================================================================\n",
            " input_3 (InputLayer)        [(None, 13)]              0         \n",
            "                                                                 \n",
            " dense_6 (Dense)             (None, 8)                 112       \n",
            "                                                                 \n",
            " batch_normalization (BatchN  (None, 8)                32        \n",
            " ormalization)                                                   \n",
            "                                                                 \n",
            " activation (Activation)     (None, 8)                 0         \n",
            "                                                                 \n",
            " dense_7 (Dense)             (None, 8)                 72        \n",
            "                                                                 \n",
            " batch_normalization_1 (Batc  (None, 8)                32        \n",
            " hNormalization)                                                 \n",
            "                                                                 \n",
            " activation_1 (Activation)   (None, 8)                 0         \n",
            "                                                                 \n",
            " dense_8 (Dense)             (None, 8)                 72        \n",
            "                                                                 \n",
            " batch_normalization_2 (Batc  (None, 8)                32        \n",
            " hNormalization)                                                 \n",
            "                                                                 \n",
            " activation_2 (Activation)   (None, 8)                 0         \n",
            "                                                                 \n",
            " dense_9 (Dense)             (None, 1)                 9         \n",
            "                                                                 \n",
            "=================================================================\n",
            "Total params: 361\n",
            "Trainable params: 313\n",
            "Non-trainable params: 48\n",
            "_________________________________________________________________\n"
          ]
        }
      ]
    },
    {
      "cell_type": "markdown",
      "source": [
        "### 3) 모델을 학습시킨다."
      ],
      "metadata": {
        "id": "aZxq94Lnqj64"
      }
    },
    {
      "cell_type": "code",
      "source": [
        "# 모델을 학습시킨다\n",
        "model.fit(독립, 종속, epochs=1000, verbose=0)\n",
        "model.fit(독립, 종속, epochs=10)"
      ],
      "metadata": {
        "colab": {
          "base_uri": "https://localhost:8080/"
        },
        "id": "PAtEVUvzqzlH",
        "outputId": "1bae021c-2cbd-4993-bff3-8947b037f796"
      },
      "execution_count": 20,
      "outputs": [
        {
          "output_type": "stream",
          "name": "stdout",
          "text": [
            "Epoch 1/10\n",
            "16/16 [==============================] - 0s 2ms/step - loss: 9.5092\n",
            "Epoch 2/10\n",
            "16/16 [==============================] - 0s 2ms/step - loss: 11.6842\n",
            "Epoch 3/10\n",
            "16/16 [==============================] - 0s 2ms/step - loss: 12.2251\n",
            "Epoch 4/10\n",
            "16/16 [==============================] - 0s 2ms/step - loss: 11.5779\n",
            "Epoch 5/10\n",
            "16/16 [==============================] - 0s 2ms/step - loss: 11.2023\n",
            "Epoch 6/10\n",
            "16/16 [==============================] - 0s 2ms/step - loss: 11.7899\n",
            "Epoch 7/10\n",
            "16/16 [==============================] - 0s 3ms/step - loss: 11.2796\n",
            "Epoch 8/10\n",
            "16/16 [==============================] - 0s 2ms/step - loss: 8.4574\n",
            "Epoch 9/10\n",
            "16/16 [==============================] - 0s 2ms/step - loss: 9.8554\n",
            "Epoch 10/10\n",
            "16/16 [==============================] - 0s 2ms/step - loss: 9.2889\n"
          ]
        },
        {
          "output_type": "execute_result",
          "data": {
            "text/plain": [
              "<keras.callbacks.History at 0x7f79637cfb50>"
            ]
          },
          "metadata": {},
          "execution_count": 20
        }
      ]
    },
    {
      "cell_type": "markdown",
      "source": [
        "\n",
        "\n",
        "*   **BatchNormalization을 사용하면 loss 값이 더 작아짐을 확인하였다.**\n"
      ],
      "metadata": {
        "id": "cZ4DdT5VcItW"
      }
    },
    {
      "cell_type": "markdown",
      "source": [
        "## 2. 아이리스 품종 분류 (13차시 코드 그대로)"
      ],
      "metadata": {
        "id": "3BweuEYKw50z"
      }
    },
    {
      "cell_type": "markdown",
      "source": [
        "### 1) 과거의 데이터 준비"
      ],
      "metadata": {
        "id": "Hn6cwGwvxBoK"
      }
    },
    {
      "cell_type": "code",
      "source": [
        "# 과거의 데이터 준비\n",
        "\n",
        "파일경로 = 'https://raw.githubusercontent.com/blackdew/tensorflow1/master/csv/iris.csv'\n",
        "아이리스 = pd.read_csv(파일경로)\n",
        "아이리스.head()"
      ],
      "metadata": {
        "colab": {
          "base_uri": "https://localhost:8080/",
          "height": 206
        },
        "id": "8UrqqNawxDxg",
        "outputId": "620d3200-c52b-4350-bf49-beef483b23a8"
      },
      "execution_count": 29,
      "outputs": [
        {
          "output_type": "execute_result",
          "data": {
            "text/plain": [
              "   꽃잎길이  꽃잎폭  꽃받침길이  꽃받침폭      품종\n",
              "0   5.1  3.5    1.4   0.2  setosa\n",
              "1   4.9  3.0    1.4   0.2  setosa\n",
              "2   4.7  3.2    1.3   0.2  setosa\n",
              "3   4.6  3.1    1.5   0.2  setosa\n",
              "4   5.0  3.6    1.4   0.2  setosa"
            ],
            "text/html": [
              "\n",
              "  <div id=\"df-362c0d7f-4781-403b-aa20-c4731cee81bf\">\n",
              "    <div class=\"colab-df-container\">\n",
              "      <div>\n",
              "<style scoped>\n",
              "    .dataframe tbody tr th:only-of-type {\n",
              "        vertical-align: middle;\n",
              "    }\n",
              "\n",
              "    .dataframe tbody tr th {\n",
              "        vertical-align: top;\n",
              "    }\n",
              "\n",
              "    .dataframe thead th {\n",
              "        text-align: right;\n",
              "    }\n",
              "</style>\n",
              "<table border=\"1\" class=\"dataframe\">\n",
              "  <thead>\n",
              "    <tr style=\"text-align: right;\">\n",
              "      <th></th>\n",
              "      <th>꽃잎길이</th>\n",
              "      <th>꽃잎폭</th>\n",
              "      <th>꽃받침길이</th>\n",
              "      <th>꽃받침폭</th>\n",
              "      <th>품종</th>\n",
              "    </tr>\n",
              "  </thead>\n",
              "  <tbody>\n",
              "    <tr>\n",
              "      <th>0</th>\n",
              "      <td>5.1</td>\n",
              "      <td>3.5</td>\n",
              "      <td>1.4</td>\n",
              "      <td>0.2</td>\n",
              "      <td>setosa</td>\n",
              "    </tr>\n",
              "    <tr>\n",
              "      <th>1</th>\n",
              "      <td>4.9</td>\n",
              "      <td>3.0</td>\n",
              "      <td>1.4</td>\n",
              "      <td>0.2</td>\n",
              "      <td>setosa</td>\n",
              "    </tr>\n",
              "    <tr>\n",
              "      <th>2</th>\n",
              "      <td>4.7</td>\n",
              "      <td>3.2</td>\n",
              "      <td>1.3</td>\n",
              "      <td>0.2</td>\n",
              "      <td>setosa</td>\n",
              "    </tr>\n",
              "    <tr>\n",
              "      <th>3</th>\n",
              "      <td>4.6</td>\n",
              "      <td>3.1</td>\n",
              "      <td>1.5</td>\n",
              "      <td>0.2</td>\n",
              "      <td>setosa</td>\n",
              "    </tr>\n",
              "    <tr>\n",
              "      <th>4</th>\n",
              "      <td>5.0</td>\n",
              "      <td>3.6</td>\n",
              "      <td>1.4</td>\n",
              "      <td>0.2</td>\n",
              "      <td>setosa</td>\n",
              "    </tr>\n",
              "  </tbody>\n",
              "</table>\n",
              "</div>\n",
              "      <button class=\"colab-df-convert\" onclick=\"convertToInteractive('df-362c0d7f-4781-403b-aa20-c4731cee81bf')\"\n",
              "              title=\"Convert this dataframe to an interactive table.\"\n",
              "              style=\"display:none;\">\n",
              "        \n",
              "  <svg xmlns=\"http://www.w3.org/2000/svg\" height=\"24px\"viewBox=\"0 0 24 24\"\n",
              "       width=\"24px\">\n",
              "    <path d=\"M0 0h24v24H0V0z\" fill=\"none\"/>\n",
              "    <path d=\"M18.56 5.44l.94 2.06.94-2.06 2.06-.94-2.06-.94-.94-2.06-.94 2.06-2.06.94zm-11 1L8.5 8.5l.94-2.06 2.06-.94-2.06-.94L8.5 2.5l-.94 2.06-2.06.94zm10 10l.94 2.06.94-2.06 2.06-.94-2.06-.94-.94-2.06-.94 2.06-2.06.94z\"/><path d=\"M17.41 7.96l-1.37-1.37c-.4-.4-.92-.59-1.43-.59-.52 0-1.04.2-1.43.59L10.3 9.45l-7.72 7.72c-.78.78-.78 2.05 0 2.83L4 21.41c.39.39.9.59 1.41.59.51 0 1.02-.2 1.41-.59l7.78-7.78 2.81-2.81c.8-.78.8-2.07 0-2.86zM5.41 20L4 18.59l7.72-7.72 1.47 1.35L5.41 20z\"/>\n",
              "  </svg>\n",
              "      </button>\n",
              "      \n",
              "  <style>\n",
              "    .colab-df-container {\n",
              "      display:flex;\n",
              "      flex-wrap:wrap;\n",
              "      gap: 12px;\n",
              "    }\n",
              "\n",
              "    .colab-df-convert {\n",
              "      background-color: #E8F0FE;\n",
              "      border: none;\n",
              "      border-radius: 50%;\n",
              "      cursor: pointer;\n",
              "      display: none;\n",
              "      fill: #1967D2;\n",
              "      height: 32px;\n",
              "      padding: 0 0 0 0;\n",
              "      width: 32px;\n",
              "    }\n",
              "\n",
              "    .colab-df-convert:hover {\n",
              "      background-color: #E2EBFA;\n",
              "      box-shadow: 0px 1px 2px rgba(60, 64, 67, 0.3), 0px 1px 3px 1px rgba(60, 64, 67, 0.15);\n",
              "      fill: #174EA6;\n",
              "    }\n",
              "\n",
              "    [theme=dark] .colab-df-convert {\n",
              "      background-color: #3B4455;\n",
              "      fill: #D2E3FC;\n",
              "    }\n",
              "\n",
              "    [theme=dark] .colab-df-convert:hover {\n",
              "      background-color: #434B5C;\n",
              "      box-shadow: 0px 1px 3px 1px rgba(0, 0, 0, 0.15);\n",
              "      filter: drop-shadow(0px 1px 2px rgba(0, 0, 0, 0.3));\n",
              "      fill: #FFFFFF;\n",
              "    }\n",
              "  </style>\n",
              "\n",
              "      <script>\n",
              "        const buttonEl =\n",
              "          document.querySelector('#df-362c0d7f-4781-403b-aa20-c4731cee81bf button.colab-df-convert');\n",
              "        buttonEl.style.display =\n",
              "          google.colab.kernel.accessAllowed ? 'block' : 'none';\n",
              "\n",
              "        async function convertToInteractive(key) {\n",
              "          const element = document.querySelector('#df-362c0d7f-4781-403b-aa20-c4731cee81bf');\n",
              "          const dataTable =\n",
              "            await google.colab.kernel.invokeFunction('convertToInteractive',\n",
              "                                                     [key], {});\n",
              "          if (!dataTable) return;\n",
              "\n",
              "          const docLinkHtml = 'Like what you see? Visit the ' +\n",
              "            '<a target=\"_blank\" href=https://colab.research.google.com/notebooks/data_table.ipynb>data table notebook</a>'\n",
              "            + ' to learn more about interactive tables.';\n",
              "          element.innerHTML = '';\n",
              "          dataTable['output_type'] = 'display_data';\n",
              "          await google.colab.output.renderOutput(dataTable, element);\n",
              "          const docLink = document.createElement('div');\n",
              "          docLink.innerHTML = docLinkHtml;\n",
              "          element.appendChild(docLink);\n",
              "        }\n",
              "      </script>\n",
              "    </div>\n",
              "  </div>\n",
              "  "
            ]
          },
          "metadata": {},
          "execution_count": 29
        }
      ]
    },
    {
      "cell_type": "markdown",
      "source": [
        "### 1-1) 원핫인코딩(범주형 데이터)"
      ],
      "metadata": {
        "id": "IM_7I4XuyH-n"
      }
    },
    {
      "cell_type": "code",
      "source": [
        "# 원핫인코딩\n",
        "\n",
        "아이리스 = pd.get_dummies(아이리스)\n",
        "아이리스.head\n",
        "#print(아이리스.columns)"
      ],
      "metadata": {
        "colab": {
          "base_uri": "https://localhost:8080/"
        },
        "id": "snQ6PinKyR2L",
        "outputId": "121b9635-64ed-4009-8262-c21f1ace1543"
      },
      "execution_count": 30,
      "outputs": [
        {
          "output_type": "execute_result",
          "data": {
            "text/plain": [
              "<bound method NDFrame.head of      꽃잎길이  꽃잎폭  꽃받침길이  꽃받침폭  품종_setosa  품종_versicolor  품종_virginica\n",
              "0     5.1  3.5    1.4   0.2          1              0             0\n",
              "1     4.9  3.0    1.4   0.2          1              0             0\n",
              "2     4.7  3.2    1.3   0.2          1              0             0\n",
              "3     4.6  3.1    1.5   0.2          1              0             0\n",
              "4     5.0  3.6    1.4   0.2          1              0             0\n",
              "..    ...  ...    ...   ...        ...            ...           ...\n",
              "145   6.7  3.0    5.2   2.3          0              0             1\n",
              "146   6.3  2.5    5.0   1.9          0              0             1\n",
              "147   6.5  3.0    5.2   2.0          0              0             1\n",
              "148   6.2  3.4    5.4   2.3          0              0             1\n",
              "149   5.9  3.0    5.1   1.8          0              0             1\n",
              "\n",
              "[150 rows x 7 columns]>"
            ]
          },
          "metadata": {},
          "execution_count": 30
        }
      ]
    },
    {
      "cell_type": "code",
      "source": [
        "# 종속변수, 독립변수 설정\n",
        "\n",
        "독립 = 아이리스[['꽃잎길이', '꽃잎폭', '꽃받침길이', '꽃받침폭']]\n",
        "종속 = 아이리스[['품종_setosa', '품종_versicolor', '품종_virginica']]\n",
        "print(독립.shape, 종속.shape)"
      ],
      "metadata": {
        "colab": {
          "base_uri": "https://localhost:8080/"
        },
        "id": "a-eMwQR7yxqv",
        "outputId": "0b1bb88f-4df2-4786-e219-9a69fd4b9de9"
      },
      "execution_count": 31,
      "outputs": [
        {
          "output_type": "stream",
          "name": "stdout",
          "text": [
            "(150, 4) (150, 3)\n"
          ]
        }
      ]
    },
    {
      "cell_type": "markdown",
      "source": [
        "### **2) 모델의 구조를 만든다 (본 차시에서 가장 봐야할 곳)**"
      ],
      "metadata": {
        "id": "aqDsE2jMxBoK"
      }
    },
    {
      "cell_type": "markdown",
      "source": [
        "#### 기존코드)"
      ],
      "metadata": {
        "id": "cEab3Bqonk7Q"
      }
    },
    {
      "cell_type": "code",
      "source": [
        "# 모델의 구조를 만든다\n",
        "\n",
        "X = tf.keras.layers.Input(shape=[4])\n",
        "H = tf.keras.layers.Dense(8, activation = 'swish')(X)\n",
        "H = tf.keras.layers.Dense(8, activation = 'swish')(X)\n",
        "H = tf.keras.layers.Dense(8, activation = 'swish')(X)\n",
        "Y = tf.keras.layers.Dense(3, activation = 'softmax')(H)\n",
        "model = tf.keras.models.Model(X,Y)\n",
        "model.compile(loss='categorical_crossentropy', metrics='accuracy')"
      ],
      "metadata": {
        "id": "9MBA9NvQ0DdC"
      },
      "execution_count": 32,
      "outputs": []
    },
    {
      "cell_type": "markdown",
      "source": [
        "#### 변경코드)"
      ],
      "metadata": {
        "id": "zOIJ6TQlnnPl"
      }
    },
    {
      "cell_type": "code",
      "source": [
        "# 모델의 구조를 만든다\n",
        "\n",
        "X = tf.keras.layers.Input(shape=[4])\n",
        "\n",
        "H = tf.keras.layers.Dense(8)(X)\n",
        "H = tf.keras.layers.BatchNormalization()(H)\n",
        "H = tf.keras.layers.Activation('swish')(H)\n",
        "\n",
        "H = tf.keras.layers.Dense(8)(H) \n",
        "H = tf.keras.layers.BatchNormalization()(H)\n",
        "H = tf.keras.layers.Activation('swish')(H)\n",
        "\n",
        "H = tf.keras.layers.Dense(8)(H)\n",
        "H = tf.keras.layers.BatchNormalization()(H)\n",
        "H = tf.keras.layers.Activation('swish')(H)\n",
        "\n",
        "Y = tf.keras.layers.Dense(3, activation = 'softmax')(H)\n",
        "model = tf.keras.models.Model(X,Y)\n",
        "model.compile(loss='categorical_crossentropy', metrics='accuracy')"
      ],
      "metadata": {
        "id": "f0pZD-H4nBN9"
      },
      "execution_count": 36,
      "outputs": []
    },
    {
      "cell_type": "markdown",
      "source": [
        "### 2-1) 만든 모델의 확인"
      ],
      "metadata": {
        "id": "Zr6HnL8Y2CA2"
      }
    },
    {
      "cell_type": "code",
      "source": [
        "# 만든 모델의 확인\n",
        "\n",
        "model.summary()"
      ],
      "metadata": {
        "colab": {
          "base_uri": "https://localhost:8080/"
        },
        "id": "fmybUNkV2Qtg",
        "outputId": "323ba8cf-59c2-411b-ee14-5618b871bcfa"
      },
      "execution_count": 37,
      "outputs": [
        {
          "output_type": "stream",
          "name": "stdout",
          "text": [
            "Model: \"model_7\"\n",
            "_________________________________________________________________\n",
            " Layer (type)                Output Shape              Param #   \n",
            "=================================================================\n",
            " input_9 (InputLayer)        [(None, 4)]               0         \n",
            "                                                                 \n",
            " dense_27 (Dense)            (None, 8)                 40        \n",
            "                                                                 \n",
            " batch_normalization_9 (Batc  (None, 8)                32        \n",
            " hNormalization)                                                 \n",
            "                                                                 \n",
            " activation_9 (Activation)   (None, 8)                 0         \n",
            "                                                                 \n",
            " dense_28 (Dense)            (None, 8)                 72        \n",
            "                                                                 \n",
            " batch_normalization_10 (Bat  (None, 8)                32        \n",
            " chNormalization)                                                \n",
            "                                                                 \n",
            " activation_10 (Activation)  (None, 8)                 0         \n",
            "                                                                 \n",
            " dense_29 (Dense)            (None, 8)                 72        \n",
            "                                                                 \n",
            " batch_normalization_11 (Bat  (None, 8)                32        \n",
            " chNormalization)                                                \n",
            "                                                                 \n",
            " activation_11 (Activation)  (None, 8)                 0         \n",
            "                                                                 \n",
            " dense_30 (Dense)            (None, 3)                 27        \n",
            "                                                                 \n",
            "=================================================================\n",
            "Total params: 307\n",
            "Trainable params: 259\n",
            "Non-trainable params: 48\n",
            "_________________________________________________________________\n"
          ]
        }
      ]
    },
    {
      "cell_type": "markdown",
      "source": [
        "### 3) 모델을 학습시킨다."
      ],
      "metadata": {
        "id": "6KFEIC3IxBoK"
      }
    },
    {
      "cell_type": "code",
      "source": [
        "# 모델을 학습시킨다\n",
        "\n",
        "model.fit(독립, 종속, epochs=1000, verbose=0)\n",
        "model.fit(독립, 종속, epochs=10)"
      ],
      "metadata": {
        "colab": {
          "base_uri": "https://localhost:8080/"
        },
        "id": "dKEyp3iw053k",
        "outputId": "575608cf-131f-467f-e5d6-337df92ec4e1"
      },
      "execution_count": 40,
      "outputs": [
        {
          "output_type": "stream",
          "name": "stdout",
          "text": [
            "Epoch 1/10\n",
            "5/5 [==============================] - 0s 3ms/step - loss: 0.0326 - accuracy: 0.9800\n",
            "Epoch 2/10\n",
            "5/5 [==============================] - 0s 5ms/step - loss: 0.0431 - accuracy: 0.9800\n",
            "Epoch 3/10\n",
            "5/5 [==============================] - 0s 5ms/step - loss: 0.0218 - accuracy: 0.9933\n",
            "Epoch 4/10\n",
            "5/5 [==============================] - 0s 4ms/step - loss: 0.0283 - accuracy: 0.9867\n",
            "Epoch 5/10\n",
            "5/5 [==============================] - 0s 4ms/step - loss: 0.0194 - accuracy: 0.9867\n",
            "Epoch 6/10\n",
            "5/5 [==============================] - 0s 4ms/step - loss: 0.0672 - accuracy: 0.9800\n",
            "Epoch 7/10\n",
            "5/5 [==============================] - 0s 3ms/step - loss: 0.0132 - accuracy: 1.0000\n",
            "Epoch 8/10\n",
            "5/5 [==============================] - 0s 3ms/step - loss: 0.0402 - accuracy: 0.9733\n",
            "Epoch 9/10\n",
            "5/5 [==============================] - 0s 3ms/step - loss: 0.0096 - accuracy: 1.0000\n",
            "Epoch 10/10\n",
            "5/5 [==============================] - 0s 4ms/step - loss: 0.0449 - accuracy: 0.9867\n"
          ]
        },
        {
          "output_type": "execute_result",
          "data": {
            "text/plain": [
              "<keras.callbacks.History at 0x7f79633b1390>"
            ]
          },
          "metadata": {},
          "execution_count": 40
        }
      ]
    },
    {
      "cell_type": "markdown",
      "source": [
        "\n",
        "\n",
        "*   **BatchNormalization을 사용하면 accuracy 값이 더 높아짐을 확인하였다.**\n"
      ],
      "metadata": {
        "id": "_CNzOqpmpFmx"
      }
    }
  ]
}