{
  "nbformat": 4,
  "nbformat_minor": 0,
  "metadata": {
    "colab": {
      "name": "7_딥러닝_원리",
      "provenance": [],
      "collapsed_sections": [],
      "authorship_tag": "ABX9TyPixEVvE9nLV4kJ5Di5vT/h",
      "include_colab_link": true
    },
    "kernelspec": {
      "name": "python3",
      "display_name": "Python 3"
    },
    "language_info": {
      "name": "python"
    }
  },
  "cells": [
    {
      "cell_type": "markdown",
      "metadata": {
        "id": "view-in-github",
        "colab_type": "text"
      },
      "source": [
        "<a href=\"https://colab.research.google.com/github/HydrOpOtesJA99/A.I-learning/blob/main/07_%EB%94%A5%EB%9F%AC%EB%8B%9D_%EC%9B%90%EB%A6%AC.ipynb\" target=\"_parent\"><img src=\"https://colab.research.google.com/assets/colab-badge.svg\" alt=\"Open In Colab\"/></a>"
      ]
    },
    {
      "cell_type": "markdown",
      "source": [
        "# 7_딥러닝_원리\n",
        "\n",
        "*   딥러닝 워크북 링크: https://bit.ly/2DEBlPd\n",
        "*   수업 URL: https://www.youtube.com/watch?v=ItKi514Ly-4&list=PLl1irxoYh2wyLwJutUZx5Q_QEEDZoXBnz&index=13\n",
        "\n",
        "*   한번 봐보면 좋을 듯 함"
      ],
      "metadata": {
        "id": "2lAzHYxh_6Zk"
      }
    },
    {
      "cell_type": "code",
      "execution_count": null,
      "metadata": {
        "id": "FPpvGhr2zGCO"
      },
      "outputs": [],
      "source": [
        ""
      ]
    }
  ]
}