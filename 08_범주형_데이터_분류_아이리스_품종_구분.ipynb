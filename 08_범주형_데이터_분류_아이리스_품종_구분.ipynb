{
  "nbformat": 4,
  "nbformat_minor": 0,
  "metadata": {
    "colab": {
      "name": "8_범주형_데이터_분류_아이리스_품종_구분",
      "provenance": [],
      "collapsed_sections": [],
      "authorship_tag": "ABX9TyOC/hMQ/2hyXmQFPgIe4KgF",
      "include_colab_link": true
    },
    "kernelspec": {
      "name": "python3",
      "display_name": "Python 3"
    },
    "language_info": {
      "name": "python"
    }
  },
  "cells": [
    {
      "cell_type": "markdown",
      "metadata": {
        "id": "view-in-github",
        "colab_type": "text"
      },
      "source": [
        "<a href=\"https://colab.research.google.com/github/HydrOpOtesJA99/A.I-learning/blob/main/08_%EB%B2%94%EC%A3%BC%ED%98%95_%EB%8D%B0%EC%9D%B4%ED%84%B0_%EB%B6%84%EB%A5%98_%EC%95%84%EC%9D%B4%EB%A6%AC%EC%8A%A4_%ED%92%88%EC%A2%85_%EA%B5%AC%EB%B6%84.ipynb\" target=\"_parent\"><img src=\"https://colab.research.google.com/assets/colab-badge.svg\" alt=\"Open In Colab\"/></a>"
      ]
    },
    {
      "cell_type": "markdown",
      "source": [
        "# 8_범주형_데이터_분류_아이리스_품종_구분\n",
        "\n",
        "\n",
        "\n",
        "1. 과거의 데이터를 준비한다\n",
        "2. 모델의 구조를 만든다\n",
        "3. 데이터로 모델을 학습(FIT)한다\n",
        "4. 모델을 이용한다"
      ],
      "metadata": {
        "id": "aiDhkCyHChQR"
      }
    },
    {
      "cell_type": "markdown",
      "source": [
        "## 1. 과거의 데이터를 준비한다"
      ],
      "metadata": {
        "id": "2dhuMwK0DUSj"
      }
    },
    {
      "cell_type": "code",
      "source": [
        "# 1. 과거의 데이터를 준비\n",
        "\n",
        "아이리스 = pd.read_csv('iris.csv')\n",
        "아이리스 = pd.get_dummies(아이리스) # \n",
        "\n",
        "독립 = 아이리스[['꽃잎길이', '꽃잎폭', '꽃받침길이', '꽃받침폭']]\n",
        "종속 = 아이리스[['품종']]\n",
        "\n",
        "print(독립.shape, 종속.shape)"
      ],
      "metadata": {
        "id": "KDypi30zDRv_"
      },
      "execution_count": null,
      "outputs": []
    },
    {
      "cell_type": "markdown",
      "source": [
        "## 2. 모델의 구조를 만든다."
      ],
      "metadata": {
        "id": "jbY0xNHYEeDt"
      }
    },
    {
      "cell_type": "code",
      "source": [
        "# 2. 모델의 구조를 만든다\n",
        "\n",
        "X = tf.keras.layer.Input(shape=[4])\n",
        "Y = tf.keras.Dense(3, activation='softmax')(X)\n",
        "model = tf.keras.models.Model(X,Y)\n",
        "model.compile(loss='categorical_crossentropy')"
      ],
      "metadata": {
        "id": "1SaHxffJE1Sd"
      },
      "execution_count": null,
      "outputs": []
    },
    {
      "cell_type": "markdown",
      "source": [
        "## 3. 데이터로 모델을 학습(FIT)한다."
      ],
      "metadata": {
        "id": "eAXo4szfFQIx"
      }
    },
    {
      "cell_type": "code",
      "source": [
        "# 3. 데이터로 모델을 학습(FIT)한다\n",
        "\n",
        "model.fit(독립, 종속, epochs=1000)"
      ],
      "metadata": {
        "id": "kufiqUINFU1J"
      },
      "execution_count": null,
      "outputs": []
    },
    {
      "cell_type": "markdown",
      "source": [
        "## 4. 모델을 이용한다."
      ],
      "metadata": {
        "id": "98Y1M91JFYYW"
      }
    },
    {
      "cell_type": "code",
      "source": [
        "# 4. 모델을 이용한다.\n",
        "\n",
        "print(\"predictions: \", model.predict(독립[0:5]))"
      ],
      "metadata": {
        "id": "kpyZo0PfFi5b"
      },
      "execution_count": null,
      "outputs": []
    }
  ]
}